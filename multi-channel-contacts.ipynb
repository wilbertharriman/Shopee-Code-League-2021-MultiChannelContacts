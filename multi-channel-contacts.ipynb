{
  "nbformat": 4,
  "nbformat_minor": 0,
  "metadata": {
    "colab": {
      "name": "ShopeeCodeLeague.ipynb",
      "provenance": []
    },
    "kernelspec": {
      "name": "python3",
      "display_name": "Python 3"
    }
  },
  "cells": [
    {
      "cell_type": "code",
      "metadata": {
        "colab": {
          "base_uri": "https://localhost:8080/"
        },
        "id": "Qtqsb92tLWY0",
        "outputId": "21b1002c-834c-43ce-ab05-6fe1d991fabc"
      },
      "source": [
        "from google.colab import drive\n",
        "drive.mount('/content/drive')"
      ],
      "execution_count": 1,
      "outputs": [
        {
          "output_type": "stream",
          "text": [
            "Mounted at /content/drive\n"
          ],
          "name": "stdout"
        }
      ]
    },
    {
      "cell_type": "code",
      "metadata": {
        "colab": {
          "base_uri": "https://localhost:8080/"
        },
        "id": "Y87vTdSrLwfz",
        "outputId": "6a3b6733-0138-4a71-aa62-458ae773cbc6"
      },
      "source": [
        "import os\n",
        "from google.colab import drive\n",
        "drive.mount('/content/drive')\n",
        "os.chdir(\"/content/drive/My Drive/data/Dataset for Multi-Channel Contacts Problem (1).zip (Unzipped Files)\")\n",
        "os.listdir()"
      ],
      "execution_count": 16,
      "outputs": [
        {
          "output_type": "stream",
          "text": [
            "Drive already mounted at /content/drive; to attempt to forcibly remount, call drive.mount(\"/content/drive\", force_remount=True).\n"
          ],
          "name": "stdout"
        },
        {
          "output_type": "execute_result",
          "data": {
            "text/plain": [
              "['contacts.json']"
            ]
          },
          "metadata": {
            "tags": []
          },
          "execution_count": 16
        }
      ]
    },
    {
      "cell_type": "code",
      "metadata": {
        "id": "jPekyCvgMTUJ"
      },
      "source": [
        "import json\n",
        "with open('contacts.json') as json_file:\n",
        "    itemData = json.load(json_file)"
      ],
      "execution_count": 100,
      "outputs": []
    },
    {
      "cell_type": "code",
      "metadata": {
        "id": "Zlz7fqd5R6A6"
      },
      "source": [
        "class Graph:\n",
        "  def __init__(self, V):\n",
        "    self.V = V\n",
        "    self.adj = [[] for i in range(V)]\n",
        "\n",
        "  def addEdge(self, u, v):\n",
        "    if u == v:\n",
        "      return\n",
        "    self.adj[u].append(v)\n",
        "    self.adj[v].append(u)\n",
        "    \n",
        "  def DFSUtil(self, temp, v, visited):\n",
        "    visited[v] = True\n",
        "    temp.append(v)\n",
        " \n",
        "    # Repeat for all vertices adjacent\n",
        "    # to this vertex v\n",
        "    for i in self.adj[v]:\n",
        "      if visited[i] == False:\n",
        "        # Update the list\n",
        "        temp = self.DFSUtil(temp, i, visited)\n",
        "    return temp\n",
        "\n",
        "  def connectedComponents(self):\n",
        "    visited = []\n",
        "    cc = []\n",
        "    for i in range(self.V):\n",
        "      visited.append(False)\n",
        "    \n",
        "    for v in range(self.V):\n",
        "      if visited[v] == False:\n",
        "        temp = []\n",
        "        cc.append(self.DFSUtil(temp, v ,visited))\n",
        "    return cc"
      ],
      "execution_count": 121,
      "outputs": []
    },
    {
      "cell_type": "code",
      "metadata": {
        "colab": {
          "base_uri": "https://localhost:8080/"
        },
        "id": "t3OjDK5noR5p",
        "outputId": "ddef1dc8-21d5-4af1-baaf-83baeecc34f0"
      },
      "source": [
        "itemData[0]"
      ],
      "execution_count": 112,
      "outputs": [
        {
          "output_type": "execute_result",
          "data": {
            "text/plain": [
              "{'Contacts': 1, 'Email': 'gkzAbIy@qq.com', 'Id': 0, 'OrderId': '', 'Phone': ''}"
            ]
          },
          "metadata": {
            "tags": []
          },
          "execution_count": 112
        }
      ]
    },
    {
      "cell_type": "code",
      "metadata": {
        "id": "ZJZfBZ8eQHIU"
      },
      "source": [
        "emails = dict()\n",
        "orderIds = dict()\n",
        "phoneNumbers = dict()\n",
        "\n",
        "for item in itemData:\n",
        "  if item['Email'] != '':\n",
        "    try:\n",
        "        emails[item['Email']] += list(item['Id'])\n",
        "    except:\n",
        "        emails[item['Email']] = list()\n",
        "        emails[item['Email']].append(item['Id'])\n",
        "  if item['OrderId'] != '':\n",
        "    try:\n",
        "        orderIds[item['OrderId']] += list(item['Id'])\n",
        "    except:\n",
        "        orderIds[item['OrderId']] = list()\n",
        "        orderIds[item['OrderId']].append(item['Id'])\n",
        "  if item['Phone'] != '':\n",
        "    try:\n",
        "        phoneNumbers[item['Phone']] += list(item['Id'])\n",
        "    except:\n",
        "        phoneNumbers[item['Phone']] = list()\n",
        "        phoneNumbers[item['Phone']].append(item['Id'])"
      ],
      "execution_count": 139,
      "outputs": []
    },
    {
      "cell_type": "code",
      "metadata": {
        "colab": {
          "base_uri": "https://localhost:8080/",
          "height": 35
        },
        "id": "e58q0S5Ipb7-",
        "outputId": "4f8bb3fa-5dea-4d79-a5c2-6fe2a1408d54"
      },
      "source": [
        ""
      ],
      "execution_count": 119,
      "outputs": [
        {
          "output_type": "execute_result",
          "data": {
            "application/vnd.google.colaboratory.intrinsic+json": {
              "type": "string"
            },
            "text/plain": [
              "''"
            ]
          },
          "metadata": {
            "tags": []
          },
          "execution_count": 119
        }
      ]
    },
    {
      "cell_type": "code",
      "metadata": {
        "id": "Gd-thNkQMrxQ"
      },
      "source": [
        "# itemData = itemData[:1000]\n",
        "g = Graph(len(itemData))\n",
        "for item in itemData:\n",
        "  if (item['Email'] != ''):\n",
        "    g.addEdge(emails[item['Email']][0], item['Id'])\n",
        "  if (item['OrderId'] != ''):\n",
        "    g.addEdge(orderIds[item['OrderId']][0], item['Id'])\n",
        "  if (item['Phone'] != ''):\n",
        "    g.addEdge(phoneNumbers[item['Phone']][0], item['Id'])"
      ],
      "execution_count": 143,
      "outputs": []
    },
    {
      "cell_type": "code",
      "metadata": {
        "colab": {
          "base_uri": "https://localhost:8080/"
        },
        "id": "zbm5q9wEebS9",
        "outputId": "de22b3ed-8fae-4191-a352-b7d5603d1bb9"
      },
      "source": [
        "emails[itemData[0]['Email']]"
      ],
      "execution_count": 138,
      "outputs": [
        {
          "output_type": "execute_result",
          "data": {
            "text/plain": [
              "[0]"
            ]
          },
          "metadata": {
            "tags": []
          },
          "execution_count": 138
        }
      ]
    },
    {
      "cell_type": "code",
      "metadata": {
        "id": "f1PvQeVFU47q"
      },
      "source": [
        "cc = g.connectedComponents()\n",
        "\n",
        "ans = dict()\n",
        "for L in cc:\n",
        "  for i in L:\n",
        "    ans[i] = L\n",
        "\n",
        "L = []\n",
        "\n",
        "for i in range(500000):\n",
        "  ans[i] = sorted(ans[i])\n",
        "  sum = 0\n",
        "  text = ''\n",
        "\n",
        "  for j in ans[i]:\n",
        "    sum += itemData[j]['Contacts']\n",
        "  text = '-'.join([str(k) for k in ans[i]])\n",
        "  text += ', '\n",
        "  text += str(sum)\n",
        "  L.append(text)\n"
      ],
      "execution_count": 184,
      "outputs": []
    },
    {
      "cell_type": "code",
      "metadata": {
        "colab": {
          "base_uri": "https://localhost:8080/"
        },
        "id": "AIq1eMZpzDa8",
        "outputId": "7c017a01-2d23-4bb3-f1db-188f3a60e151"
      },
      "source": [
        "len([i for i in range(len(itemData))])"
      ],
      "execution_count": 191,
      "outputs": [
        {
          "output_type": "execute_result",
          "data": {
            "text/plain": [
              "500000"
            ]
          },
          "metadata": {
            "tags": []
          },
          "execution_count": 191
        }
      ]
    },
    {
      "cell_type": "code",
      "metadata": {
        "id": "GnrlYLGCeFMw"
      },
      "source": [
        "import pandas as pd\n",
        "df = pd.DataFrame({'ticket_id':[i for i in range(len(itemData))], 'ticket_trace':L}, columns=['ticket_id', 'ticket_trace/contact'])\n",
        "df.to_csv(r\"D:\\self_learning\\shopeecodeleague\\result.csv\",index=False)"
      ],
      "execution_count": 192,
      "outputs": []
    }
  ]
}